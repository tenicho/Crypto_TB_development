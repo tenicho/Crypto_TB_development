{
 "cells": [
  {
   "cell_type": "code",
   "execution_count": 7,
   "metadata": {},
   "outputs": [],
   "source": [
    "import requests\n",
    "import json\n",
    "# first neural network with keras tutorial\n",
    "import pandas as pd\n",
    "import pandas_ta as ta\n",
    "import random\n",
    "from collections import deque\n",
    "import numpy as np\n",
    "import tensorflow as tf\n",
    "from tensorflow.keras.regularizers import l2\n",
    "from tensorflow.keras.utils import to_categorical\n",
    "from tensorflow.keras.models import Sequential, load_model\n",
    "from tensorflow.keras.layers import Dense, Dropout, LSTM, BatchNormalization, Flatten, Activation, SimpleRNN\n",
    "from tensorflow.keras.callbacks import ModelCheckpoint, ModelCheckpoint, Callback, TensorBoard, LearningRateScheduler\n",
    "import time\n",
    "import statistics\n",
    "from sklearn import preprocessing\n",
    "from matplotlib import pyplot as plt\n",
    "from IPython.display import clear_output\n",
    "import os.path\n",
    "from numpy import loadtxt\n",
    "import yfinance as yf\n",
    "import math\n",
    "import datetime\n",
    "pd.options.mode.chained_assignment = None  # default='warn'"
   ]
  },
  {
   "cell_type": "code",
   "execution_count": 2,
   "metadata": {},
   "outputs": [],
   "source": [
    "\n",
    "url = \"https://min-api.cryptocompare.com/data/v2/histohour?fsym=BTC&tsym=USD&limit=2000\"\n",
    "response = requests.get(url)\n",
    "info = json.loads(response.content)\n"
   ]
  },
  {
   "cell_type": "code",
   "execution_count": 3,
   "metadata": {},
   "outputs": [],
   "source": [
    "info = json.loads(response.content)"
   ]
  },
  {
   "cell_type": "code",
   "execution_count": 5,
   "metadata": {},
   "outputs": [
    {
     "data": {
      "text/plain": [
       "2001"
      ]
     },
     "execution_count": 5,
     "metadata": {},
     "output_type": "execute_result"
    }
   ],
   "source": [
    "len(info['Data']['Data'])"
   ]
  },
  {
   "cell_type": "code",
   "execution_count": 10,
   "metadata": {},
   "outputs": [
    {
     "data": {
      "text/plain": [
       "{'time': 1646535600,\n",
       " 'high': 39569.6,\n",
       " 'low': 39284.67,\n",
       " 'open': 39529.36,\n",
       " 'volumefrom': 497.25,\n",
       " 'volumeto': 19610852.76,\n",
       " 'close': 39373.74,\n",
       " 'conversionType': 'direct',\n",
       " 'conversionSymbol': ''}"
      ]
     },
     "execution_count": 10,
     "metadata": {},
     "output_type": "execute_result"
    }
   ],
   "source": [
    "info['Data']['Data'][-1]"
   ]
  },
  {
   "cell_type": "code",
   "execution_count": 36,
   "metadata": {},
   "outputs": [],
   "source": [
    "open = []; high = []; low = []; close = []; volume = []; trades = []; timestamp = []\n",
    "for row in info['Data']['Data']:\n",
    "    open.append(row['open'])\n",
    "    high.append(row['high'])\n",
    "    low.append(row['low'])\n",
    "    close.append(row['close'])\n",
    "    volume.append(row['volumeto'])\n",
    "    trades.append(row['volumefrom'])\n",
    "    ts = datetime.datetime.fromtimestamp(row['time']).strftime(\"%m/%d/%Y, %H:%M:%S\")\n",
    "    timestamp.append(datetime.datetime.fromtimestamp(row['time']).strftime(\"%m/%d/%Y, %H:%M:%S\"))"
   ]
  },
  {
   "cell_type": "code",
   "execution_count": 37,
   "metadata": {},
   "outputs": [],
   "source": [
    "column_names = ['timestamp', 'open', 'high', 'low', 'close', 'volume','trades']\n",
    "df = pd.DataFrame(columns = column_names)"
   ]
  },
  {
   "cell_type": "code",
   "execution_count": 38,
   "metadata": {},
   "outputs": [],
   "source": [
    "df['timestamp'] = timestamp\n",
    "df['open'] = open\n",
    "df['high'] = high\n",
    "df['low'] = low\n",
    "df['close'] = close\n",
    "df['volume'] = volume\n",
    "df['trades'] = trades"
   ]
  },
  {
   "cell_type": "code",
   "execution_count": 40,
   "metadata": {},
   "outputs": [],
   "source": [
    "df.to_csv('BTC-USD_1hour.csv')"
   ]
  },
  {
   "cell_type": "code",
   "execution_count": 39,
   "metadata": {},
   "outputs": [
    {
     "data": {
      "text/html": [
       "<div>\n",
       "<style scoped>\n",
       "    .dataframe tbody tr th:only-of-type {\n",
       "        vertical-align: middle;\n",
       "    }\n",
       "\n",
       "    .dataframe tbody tr th {\n",
       "        vertical-align: top;\n",
       "    }\n",
       "\n",
       "    .dataframe thead th {\n",
       "        text-align: right;\n",
       "    }\n",
       "</style>\n",
       "<table border=\"1\" class=\"dataframe\">\n",
       "  <thead>\n",
       "    <tr style=\"text-align: right;\">\n",
       "      <th></th>\n",
       "      <th>timestamp</th>\n",
       "      <th>open</th>\n",
       "      <th>high</th>\n",
       "      <th>low</th>\n",
       "      <th>close</th>\n",
       "      <th>volume</th>\n",
       "      <th>trades</th>\n",
       "    </tr>\n",
       "  </thead>\n",
       "  <tbody>\n",
       "    <tr>\n",
       "      <th>1996</th>\n",
       "      <td>03/05/2022, 18:00:00</td>\n",
       "      <td>39466.30</td>\n",
       "      <td>39468.30</td>\n",
       "      <td>39337.11</td>\n",
       "      <td>39407.02</td>\n",
       "      <td>15265152.25</td>\n",
       "      <td>387.57</td>\n",
       "    </tr>\n",
       "    <tr>\n",
       "      <th>1997</th>\n",
       "      <td>03/05/2022, 19:00:00</td>\n",
       "      <td>39407.02</td>\n",
       "      <td>39611.31</td>\n",
       "      <td>39361.85</td>\n",
       "      <td>39602.27</td>\n",
       "      <td>27088787.85</td>\n",
       "      <td>685.33</td>\n",
       "    </tr>\n",
       "    <tr>\n",
       "      <th>1998</th>\n",
       "      <td>03/05/2022, 20:00:00</td>\n",
       "      <td>39602.27</td>\n",
       "      <td>39686.74</td>\n",
       "      <td>39441.29</td>\n",
       "      <td>39458.78</td>\n",
       "      <td>20012948.48</td>\n",
       "      <td>506.31</td>\n",
       "    </tr>\n",
       "    <tr>\n",
       "      <th>1999</th>\n",
       "      <td>03/05/2022, 21:00:00</td>\n",
       "      <td>39458.78</td>\n",
       "      <td>39533.00</td>\n",
       "      <td>39383.49</td>\n",
       "      <td>39529.36</td>\n",
       "      <td>15364904.21</td>\n",
       "      <td>389.32</td>\n",
       "    </tr>\n",
       "    <tr>\n",
       "      <th>2000</th>\n",
       "      <td>03/05/2022, 22:00:00</td>\n",
       "      <td>39529.36</td>\n",
       "      <td>39569.60</td>\n",
       "      <td>39284.67</td>\n",
       "      <td>39373.74</td>\n",
       "      <td>19610852.76</td>\n",
       "      <td>497.25</td>\n",
       "    </tr>\n",
       "  </tbody>\n",
       "</table>\n",
       "</div>"
      ],
      "text/plain": [
       "                 timestamp      open      high       low     close  \\\n",
       "1996  03/05/2022, 18:00:00  39466.30  39468.30  39337.11  39407.02   \n",
       "1997  03/05/2022, 19:00:00  39407.02  39611.31  39361.85  39602.27   \n",
       "1998  03/05/2022, 20:00:00  39602.27  39686.74  39441.29  39458.78   \n",
       "1999  03/05/2022, 21:00:00  39458.78  39533.00  39383.49  39529.36   \n",
       "2000  03/05/2022, 22:00:00  39529.36  39569.60  39284.67  39373.74   \n",
       "\n",
       "           volume  trades  \n",
       "1996  15265152.25  387.57  \n",
       "1997  27088787.85  685.33  \n",
       "1998  20012948.48  506.31  \n",
       "1999  15364904.21  389.32  \n",
       "2000  19610852.76  497.25  "
      ]
     },
     "execution_count": 39,
     "metadata": {},
     "output_type": "execute_result"
    }
   ],
   "source": [
    "df.tail(5)"
   ]
  }
 ],
 "metadata": {
  "kernelspec": {
   "display_name": "Python 3",
   "language": "python",
   "name": "python3"
  },
  "language_info": {
   "codemirror_mode": {
    "name": "ipython",
    "version": 3
   },
   "file_extension": ".py",
   "mimetype": "text/x-python",
   "name": "python",
   "nbconvert_exporter": "python",
   "pygments_lexer": "ipython3",
   "version": "3.8.5"
  }
 },
 "nbformat": 4,
 "nbformat_minor": 4
}
