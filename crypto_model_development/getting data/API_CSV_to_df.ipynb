{
 "cells": [
  {
   "cell_type": "code",
   "execution_count": 29,
   "metadata": {},
   "outputs": [],
   "source": [
    "import requests\n",
    "import pandas as pd\n",
    "import csv\n",
    "import sys"
   ]
  },
  {
   "cell_type": "code",
   "execution_count": 2,
   "metadata": {},
   "outputs": [],
   "source": [
    "def getting_request_response():\n",
    "    url = 'https://www.alphavantage.co/query?function=TIME_SERIES_INTRADAY&symbol=IBM&interval=5min&apikey=NPS6524MZ7FH4OI&datatype=csv'\n",
    "    r = requests.get(url)\n",
    "    return r"
   ]
  },
  {
   "cell_type": "code",
   "execution_count": 3,
   "metadata": {},
   "outputs": [],
   "source": [
    "def convert_to_dictionary(response):\n",
    "    # decoding the response from the request\n",
    "    decoded_content = response.content.decode('utf-8')\n",
    "    cr = csv.reader(decoded_content.splitlines(), delimiter=',')\n",
    "    my_list = list(cr)\n",
    "    \n",
    "    # Creating a list of list so the data can be seperated. Keeping it the same size as the number of columns\n",
    "    LISTS = [[] for i in range(len(my_list[0]))]\n",
    "    \n",
    "    # Seperating the data into seperate columns.\n",
    "    for row in my_list:\n",
    "        list_position = 0\n",
    "        for List in LISTS:\n",
    "            List.append(row[list_position])\n",
    "            list_position += 1\n",
    "            \n",
    "    # Assembling the dictionary\n",
    "    data_dic = {} # Making the dictionary that will hold the data\n",
    "    # Making the first element the key and the rest the data for the key\n",
    "    for List in LISTS:\n",
    "        data_dic[List[0]] = List[1:]\n",
    "        \n",
    "    return data_dic\n",
    "    "
   ]
  },
  {
   "cell_type": "code",
   "execution_count": 20,
   "metadata": {},
   "outputs": [],
   "source": [
    "# Getting the data and seperating it\n",
    "response = getting_request_response()\n",
    "data = convert_to_dictionary(response)"
   ]
  },
  {
   "cell_type": "code",
   "execution_count": 11,
   "metadata": {},
   "outputs": [
    {
     "data": {
      "text/plain": [
       "['2022-03-04 18:25:00',\n",
       " '2022-03-04 17:40:00',\n",
       " '2022-03-04 16:35:00',\n",
       " '2022-03-04 16:20:00',\n",
       " '2022-03-04 16:10:00',\n",
       " '2022-03-04 16:05:00',\n",
       " '2022-03-04 16:00:00',\n",
       " '2022-03-04 15:55:00',\n",
       " '2022-03-04 15:50:00',\n",
       " '2022-03-04 15:45:00']"
      ]
     },
     "execution_count": 11,
     "metadata": {},
     "output_type": "execute_result"
    }
   ],
   "source": [
    "data['timestamp'][0:10]"
   ]
  },
  {
   "cell_type": "code",
   "execution_count": 7,
   "metadata": {},
   "outputs": [
    {
     "data": {
      "text/plain": [
       "dict_keys(['timestamp', 'open', 'high', 'low', 'close', 'volume'])"
      ]
     },
     "execution_count": 7,
     "metadata": {},
     "output_type": "execute_result"
    }
   ],
   "source": [
    "data.keys()"
   ]
  },
  {
   "cell_type": "code",
   "execution_count": 21,
   "metadata": {},
   "outputs": [
    {
     "data": {
      "text/plain": [
       "2"
      ]
     },
     "execution_count": 21,
     "metadata": {},
     "output_type": "execute_result"
    }
   ],
   "source": [
    "loc = data['timestamp'][0:10].index('2022-03-04 16:35:00')\n",
    "loc"
   ]
  },
  {
   "cell_type": "code",
   "execution_count": 22,
   "metadata": {},
   "outputs": [
    {
     "data": {
      "text/plain": [
       "'2022-03-04 16:35:00'"
      ]
     },
     "execution_count": 22,
     "metadata": {},
     "output_type": "execute_result"
    }
   ],
   "source": [
    "data['timestamp'][loc]"
   ]
  },
  {
   "cell_type": "code",
   "execution_count": 23,
   "metadata": {},
   "outputs": [],
   "source": [
    "variables = ['open', 'high', 'low', 'close', 'volume']\n",
    "# data = [var for var in variables]\n",
    "info = [data[var][loc] for var in variables]\n",
    "# data = []\n",
    "# for var in variables:\n",
    "#     data = [var for var in variables]"
   ]
  },
  {
   "cell_type": "code",
   "execution_count": 26,
   "metadata": {},
   "outputs": [
    {
     "data": {
      "text/plain": [
       "('126.8700', '126.8700', '126.6200', '126.8700', '833')"
      ]
     },
     "execution_count": 26,
     "metadata": {},
     "output_type": "execute_result"
    }
   ],
   "source": [
    "tuple([data[var][loc] for var in variables])"
   ]
  },
  {
   "cell_type": "code",
   "execution_count": 27,
   "metadata": {},
   "outputs": [],
   "source": [
    "# onverting the dictionary to a dataframe\n",
    "df = pd.DataFrame(data)"
   ]
  },
  {
   "cell_type": "code",
   "execution_count": 31,
   "metadata": {},
   "outputs": [
    {
     "name": "stdout",
     "output_type": "stream",
     "text": [
      "39911\n",
      "360\n"
     ]
    }
   ],
   "source": [
    "print(sys.getsizeof(df))\n",
    "print(sys.getsizeof(data))"
   ]
  },
  {
   "cell_type": "code",
   "execution_count": 28,
   "metadata": {},
   "outputs": [
    {
     "data": {
      "text/html": [
       "<div>\n",
       "<style scoped>\n",
       "    .dataframe tbody tr th:only-of-type {\n",
       "        vertical-align: middle;\n",
       "    }\n",
       "\n",
       "    .dataframe tbody tr th {\n",
       "        vertical-align: top;\n",
       "    }\n",
       "\n",
       "    .dataframe thead th {\n",
       "        text-align: right;\n",
       "    }\n",
       "</style>\n",
       "<table border=\"1\" class=\"dataframe\">\n",
       "  <thead>\n",
       "    <tr style=\"text-align: right;\">\n",
       "      <th></th>\n",
       "      <th>timestamp</th>\n",
       "      <th>open</th>\n",
       "      <th>high</th>\n",
       "      <th>low</th>\n",
       "      <th>close</th>\n",
       "      <th>volume</th>\n",
       "    </tr>\n",
       "  </thead>\n",
       "  <tbody>\n",
       "    <tr>\n",
       "      <th>95</th>\n",
       "      <td>2022-03-04 05:00:00</td>\n",
       "      <td>124.3300</td>\n",
       "      <td>124.3300</td>\n",
       "      <td>124.3200</td>\n",
       "      <td>124.3200</td>\n",
       "      <td>500</td>\n",
       "    </tr>\n",
       "    <tr>\n",
       "      <th>96</th>\n",
       "      <td>2022-03-04 04:50:00</td>\n",
       "      <td>124.5000</td>\n",
       "      <td>124.5000</td>\n",
       "      <td>124.5000</td>\n",
       "      <td>124.5000</td>\n",
       "      <td>1137</td>\n",
       "    </tr>\n",
       "    <tr>\n",
       "      <th>97</th>\n",
       "      <td>2022-03-03 20:00:00</td>\n",
       "      <td>125.0000</td>\n",
       "      <td>125.0000</td>\n",
       "      <td>125.0000</td>\n",
       "      <td>125.0000</td>\n",
       "      <td>400</td>\n",
       "    </tr>\n",
       "    <tr>\n",
       "      <th>98</th>\n",
       "      <td>2022-03-03 19:55:00</td>\n",
       "      <td>123.8900</td>\n",
       "      <td>123.8900</td>\n",
       "      <td>123.8900</td>\n",
       "      <td>123.8900</td>\n",
       "      <td>800</td>\n",
       "    </tr>\n",
       "    <tr>\n",
       "      <th>99</th>\n",
       "      <td>2022-03-03 19:50:00</td>\n",
       "      <td>124.5300</td>\n",
       "      <td>124.5300</td>\n",
       "      <td>124.5300</td>\n",
       "      <td>124.5300</td>\n",
       "      <td>276</td>\n",
       "    </tr>\n",
       "  </tbody>\n",
       "</table>\n",
       "</div>"
      ],
      "text/plain": [
       "              timestamp      open      high       low     close volume\n",
       "95  2022-03-04 05:00:00  124.3300  124.3300  124.3200  124.3200    500\n",
       "96  2022-03-04 04:50:00  124.5000  124.5000  124.5000  124.5000   1137\n",
       "97  2022-03-03 20:00:00  125.0000  125.0000  125.0000  125.0000    400\n",
       "98  2022-03-03 19:55:00  123.8900  123.8900  123.8900  123.8900    800\n",
       "99  2022-03-03 19:50:00  124.5300  124.5300  124.5300  124.5300    276"
      ]
     },
     "execution_count": 28,
     "metadata": {},
     "output_type": "execute_result"
    }
   ],
   "source": [
    "df.tail(5)"
   ]
  },
  {
   "cell_type": "code",
   "execution_count": null,
   "metadata": {},
   "outputs": [],
   "source": []
  }
 ],
 "metadata": {
  "kernelspec": {
   "display_name": "Python 3",
   "language": "python",
   "name": "python3"
  },
  "language_info": {
   "codemirror_mode": {
    "name": "ipython",
    "version": 3
   },
   "file_extension": ".py",
   "mimetype": "text/x-python",
   "name": "python",
   "nbconvert_exporter": "python",
   "pygments_lexer": "ipython3",
   "version": "3.8.5"
  }
 },
 "nbformat": 4,
 "nbformat_minor": 4
}
