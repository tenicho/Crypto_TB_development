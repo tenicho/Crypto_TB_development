{
 "cells": [
  {
   "cell_type": "code",
   "execution_count": 5,
   "metadata": {},
   "outputs": [],
   "source": [
    "import pandas as pd\n",
    "import sys"
   ]
  },
  {
   "cell_type": "code",
   "execution_count": 2,
   "metadata": {},
   "outputs": [],
   "source": [
    "df = pd.read_csv('2020_income_statement_annual.csv')"
   ]
  },
  {
   "cell_type": "code",
   "execution_count": 3,
   "metadata": {},
   "outputs": [],
   "source": [
    "df = df.set_index('symbol')"
   ]
  },
  {
   "cell_type": "code",
   "execution_count": 4,
   "metadata": {},
   "outputs": [],
   "source": [
    "# This one is is for single csv/df\n",
    "variables = ['revenue','grossProfit','operatingIncome','netIncome',\\\n",
    "             'incomeBeforeTax','interestExpense','depreciationAndAmortization']\n",
    "tickers = ['AAPL','TSLA','INVA','BIG','AMD','F','NVDA','MSFT']\n",
    "all_data = []\n",
    "for ticker in tickers:\n",
    "    all_data.append(tuple(list(df.loc[ticker][variables])+[ticker]))"
   ]
  },
  {
   "cell_type": "code",
   "execution_count": 6,
   "metadata": {},
   "outputs": [
    {
     "name": "stdout",
     "output_type": "stream",
     "text": [
      "26972385\n",
      "120\n"
     ]
    }
   ],
   "source": [
    "print(sys.getsizeof(df))\n",
    "print(sys.getsizeof(all_data))"
   ]
  },
  {
   "cell_type": "code",
   "execution_count": 71,
   "metadata": {},
   "outputs": [
    {
     "data": {
      "text/plain": [
       "(274515000000.0,\n",
       " 104956000000.0,\n",
       " 66288000000.0,\n",
       " 57411000000.0,\n",
       " 67091000000.0,\n",
       " 2873000000.0,\n",
       " 11056000000.0,\n",
       " 'AAPL')"
      ]
     },
     "execution_count": 71,
     "metadata": {},
     "output_type": "execute_result"
    }
   ],
   "source": [
    "all_data[0]"
   ]
  },
  {
   "cell_type": "code",
   "execution_count": 68,
   "metadata": {},
   "outputs": [],
   "source": [
    "df1 = df\n",
    "df2 = df\n",
    "df3 = df\n",
    "df4 = df"
   ]
  },
  {
   "cell_type": "code",
   "execution_count": 66,
   "metadata": {},
   "outputs": [
    {
     "data": {
      "text/plain": [
       "[549030000000.0,\n",
       " 209912000000.0,\n",
       " 132576000000.0,\n",
       " 114822000000.0,\n",
       " 134182000000.0,\n",
       " 5746000000.0,\n",
       " 22112000000.0]"
      ]
     },
     "execution_count": 66,
     "metadata": {},
     "output_type": "execute_result"
    }
   ],
   "source": [
    "list(df1.loc['AAPL'][variables]+df2.loc['AAPL'][variables])"
   ]
  },
  {
   "cell_type": "code",
   "execution_count": 63,
   "metadata": {},
   "outputs": [
    {
     "data": {
      "text/plain": [
       "revenue                        2.74515e+11\n",
       "grossProfit                    1.04956e+11\n",
       "operatingIncome                 6.6288e+10\n",
       "netIncome                       5.7411e+10\n",
       "incomeBeforeTax                 6.7091e+10\n",
       "interestExpense                  2.873e+09\n",
       "depreciationAndAmortization     1.1056e+10\n",
       "Name: AAPL, dtype: object"
      ]
     },
     "execution_count": 63,
     "metadata": {},
     "output_type": "execute_result"
    }
   ],
   "source": [
    "df2.loc['AAPL'][variables]"
   ]
  },
  {
   "cell_type": "code",
   "execution_count": 72,
   "metadata": {},
   "outputs": [],
   "source": [
    "# This one is is for 4 csv/df\n",
    "variables = ['revenue','grossProfit','operatingIncome','netIncome',\\\n",
    "             'incomeBeforeTax','interestExpense','depreciationAndAmortization']\n",
    "tickers = ['AAPL','TSLA','INVA','BIG','AMD','F','NVDA','MSFT']\n",
    "all_data = []\n",
    "for ticker in tickers:\n",
    "    all_data.append(tuple(list(df1.loc[ticker][variables]+\\\n",
    "                               df2.loc[ticker][variables]+\\\n",
    "                               df3.loc[ticker][variables]+\\\n",
    "                               df4.loc[ticker][variables])+[ticker]))"
   ]
  },
  {
   "cell_type": "code",
   "execution_count": 73,
   "metadata": {},
   "outputs": [
    {
     "data": {
      "text/plain": [
       "(1098060000000.0,\n",
       " 419824000000.0,\n",
       " 265152000000.0,\n",
       " 229644000000.0,\n",
       " 268364000000.0,\n",
       " 11492000000.0,\n",
       " 44224000000.0,\n",
       " 'AAPL')"
      ]
     },
     "execution_count": 73,
     "metadata": {},
     "output_type": "execute_result"
    }
   ],
   "source": [
    "all_data[0]"
   ]
  },
  {
   "cell_type": "code",
   "execution_count": null,
   "metadata": {},
   "outputs": [],
   "source": []
  }
 ],
 "metadata": {
  "kernelspec": {
   "display_name": "Python 3",
   "language": "python",
   "name": "python3"
  },
  "language_info": {
   "codemirror_mode": {
    "name": "ipython",
    "version": 3
   },
   "file_extension": ".py",
   "mimetype": "text/x-python",
   "name": "python",
   "nbconvert_exporter": "python",
   "pygments_lexer": "ipython3",
   "version": "3.8.5"
  }
 },
 "nbformat": 4,
 "nbformat_minor": 4
}
